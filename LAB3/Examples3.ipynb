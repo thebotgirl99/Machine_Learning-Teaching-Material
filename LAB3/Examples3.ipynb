{
  "nbformat": 4,
  "nbformat_minor": 0,
  "metadata": {
    "colab": {
      "name": "Examples3.ipynb",
      "provenance": []
    },
    "kernelspec": {
      "name": "python3",
      "display_name": "Python 3"
    },
    "language_info": {
      "name": "python"
    }
  },
  "cells": [
    {
      "cell_type": "code",
      "metadata": {
        "id": "zHv4BiKJJ-o_"
      },
      "source": [
        "#Inheritances\n",
        "\n",
        "class Parent:                           #define your Parent Class\n",
        "  def __init__(self, subject, language):\n",
        "    self.subject = subject\n",
        "    self.language = language\n",
        "\n",
        "  def info(self):\n",
        "    print('The subject ' + self.subject + ' is taught in ' + self.language)"
      ],
      "execution_count": 5,
      "outputs": []
    },
    {
      "cell_type": "code",
      "metadata": {
        "colab": {
          "base_uri": "https://localhost:8080/"
        },
        "id": "5CJ3VfDrLoaT",
        "outputId": "7e85cdf2-73c4-48da-bbc0-7c6e63c33a2a"
      },
      "source": [
        "class Child(Parent):                           #define your child class and call your parent class within it\n",
        "  def __init__(self, subject, language, time):\n",
        "    super().__init__(subject, language)          #the super() function makes the child class inherit all the methods of parent class\n",
        "    self.time = time\n",
        "\n",
        "  def moreinfo(self):\n",
        "    print('The subject ' + self.subject + ' is taught in ' + self.language + ' for a period of ' + self.time + ' weeks')\n",
        "\n",
        "ans2 = Child('Maths', 'English', '3')\n",
        "ans2.moreinfo()"
      ],
      "execution_count": 6,
      "outputs": [
        {
          "output_type": "stream",
          "name": "stdout",
          "text": [
            "The subject Maths is taught in English for a period of 3 weeks\n"
          ]
        }
      ]
    },
    {
      "cell_type": "code",
      "metadata": {
        "colab": {
          "base_uri": "https://localhost:8080/"
        },
        "id": "aRwi6xd6OH3e",
        "outputId": "86ca10f7-973e-4dbb-d881-b1ee0a4045e0"
      },
      "source": [
        "#User input\n",
        "\n",
        "user1 = int(input('Enter any number between 0 and 9  '))\n",
        "user2 = str(input('Enter any day between monday and sunday '))\n",
        "print(user1)\n",
        "print(user2)"
      ],
      "execution_count": 11,
      "outputs": [
        {
          "output_type": "stream",
          "name": "stdout",
          "text": [
            "Enter any number between 0 and 9  4\n",
            "Enter any day between monday and sunday tuesday\n",
            "4\n",
            "tuesday\n"
          ]
        }
      ]
    }
  ]
}
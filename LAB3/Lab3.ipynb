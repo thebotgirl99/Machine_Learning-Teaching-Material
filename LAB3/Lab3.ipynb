{
  "nbformat": 4,
  "nbformat_minor": 0,
  "metadata": {
    "colab": {
      "name": "Lab3.ipynb",
      "provenance": []
    },
    "kernelspec": {
      "name": "python3",
      "display_name": "Python 3"
    },
    "language_info": {
      "name": "python"
    },
    "accelerator": "GPU"
  },
  "cells": [
    {
      "cell_type": "markdown",
      "metadata": {
        "id": "xZo9HbnfCsYK"
      },
      "source": [
        "**Linear Regression**\n",
        "\n",
        "Import the required libraries\n"
      ]
    },
    {
      "cell_type": "code",
      "metadata": {
        "id": "Zz8u7I3u4ymc"
      },
      "source": [
        "import numpy as np\n",
        "import pandas as pd\n",
        "import seaborn as sn\n",
        "import matplotlib.pyplot as plt\n",
        "from sklearn.model_selection import train_test_split\n",
        "from sklearn.linear_model import LinearRegression"
      ],
      "execution_count": 30,
      "outputs": []
    },
    {
      "cell_type": "markdown",
      "metadata": {
        "id": "w-Q1letvC7bN"
      },
      "source": [
        "**Upload your \".csv\" file to googlecolab/jupyter notebook**\n",
        "\n",
        "read your dataset into the program\n",
        "\n",
        "plot the correlation map if you have more than 2 columns in your dataset"
      ]
    },
    {
      "cell_type": "code",
      "metadata": {
        "colab": {
          "base_uri": "https://localhost:8080/",
          "height": 437
        },
        "id": "CWr5aZJ_48Jp",
        "outputId": "475f016b-45bc-4b99-9029-3ca39b66fdbd"
      },
      "source": [
        "dataset = pd.read_csv('/content/real_estate.csv')  #read the dataset from the file location in google colab\n",
        "sn.heatmap(dataset.corr(), annot= False, fmt='g')  #plot the correlation map to check which features (x) best describe the label (y)\n",
        "plt.show()"
      ],
      "execution_count": 31,
      "outputs": [
        {
          "output_type": "display_data",
          "data": {
            "image/png": "[encoded data removed]",
            "text/plain": [
              "<Figure size 432x288 with 2 Axes>"
            ]
          },
          "metadata": {
            "needs_background": "light"
          }
        }
      ]
    },
    {
      "cell_type": "markdown",
      "metadata": {
        "id": "deGM8fsDD4t6"
      },
      "source": [
        "**Use this function to visualize your dataset columns and rows**"
      ]
    },
    {
      "cell_type": "code",
      "metadata": {
        "colab": {
          "base_uri": "https://localhost:8080/"
        },
        "id": "kS7boK7h5wYH",
        "outputId": "825113c5-ee7d-4203-df50-29c9c017b3c3"
      },
      "source": [
        "dataset.head  "
      ],
      "execution_count": 32,
      "outputs": [
        {
          "output_type": "execute_result",
          "data": {
            "text/plain": [
              "<bound method NDFrame.head of       No  transaction date  ...   longitude  house price of unit area\n",
              "0      1          2012.917  ...   121.54024                      37.9\n",
              "1      2          2012.917  ...   121.53951                      42.2\n",
              "2      3          2013.583  ...   121.54391                      47.3\n",
              "3      4          2013.500  ...   121.54391                      54.8\n",
              "4      5          2012.833  ...   121.54245                      43.1\n",
              "..   ...               ...  ...         ...                       ...\n",
              "409  410          2013.000  ...   121.50381                      15.4\n",
              "410  411          2012.667  ...   121.54310                      50.0\n",
              "411  412          2013.250  ...   121.53986                      40.6\n",
              "412  413          2013.000  ...   121.54067                      52.5\n",
              "413  414          2013.500  ...   121.54310                      63.9\n",
              "\n",
              "[414 rows x 8 columns]>"
            ]
          },
          "metadata": {},
          "execution_count": 32
        }
      ]
    },
    {
      "cell_type": "markdown",
      "metadata": {
        "id": "D1isivb9EEdh"
      },
      "source": [
        "**Select your feature and label values from your dataset**\n",
        "\n",
        "Perform the necessary pre-processing functions"
      ]
    },
    {
      "cell_type": "code",
      "metadata": {
        "colab": {
          "base_uri": "https://localhost:8080/"
        },
        "id": "fuOuRnJ15kho",
        "outputId": "27ff2c91-aa35-41fd-c50d-ded0c6b2d52b"
      },
      "source": [
        "data= dataset[['number of convenience stores', 'house price of unit area']]  #select one column (feature) that best describes your label and enter the x and y column names here\n",
        "data.columns = ['no. of stores', 'house price']  #if the column names are too long, you can change them using this command\n",
        "data.head"
      ],
      "execution_count": 33,
      "outputs": [
        {
          "output_type": "execute_result",
          "data": {
            "text/plain": [
              "<bound method NDFrame.head of      no. of stores  house price\n",
              "0               10         37.9\n",
              "1                9         42.2\n",
              "2                5         47.3\n",
              "3                5         54.8\n",
              "4                5         43.1\n",
              "..             ...          ...\n",
              "409              0         15.4\n",
              "410              9         50.0\n",
              "411              7         40.6\n",
              "412              5         52.5\n",
              "413              9         63.9\n",
              "\n",
              "[414 rows x 2 columns]>"
            ]
          },
          "metadata": {},
          "execution_count": 33
        }
      ]
    },
    {
      "cell_type": "code",
      "metadata": {
        "colab": {
          "base_uri": "https://localhost:8080/"
        },
        "id": "eNFRJLxz6cY4",
        "outputId": "b1b4d3c7-e57f-4f56-ea44-de0751a25e9d"
      },
      "source": [
        "data.isnull().sum()  #check for any missing values in your dataset\n",
        "#data.fillna(method ='ffill', inplace = True) or data.fillna(0) or data.dropna(inplace = True)\n",
        "#if there are any missing values, fill them with either the previous value or with 0 or delete that row"
      ],
      "execution_count": 34,
      "outputs": [
        {
          "output_type": "execute_result",
          "data": {
            "text/plain": [
              "no. of stores    0\n",
              "house price      0\n",
              "dtype: int64"
            ]
          },
          "metadata": {},
          "execution_count": 34
        }
      ]
    },
    {
      "cell_type": "code",
      "metadata": {
        "id": "6vCoqKTt7J1M"
      },
      "source": [
        "x = np.array(data['no. of stores']).reshape(-1,1) #describe your feature array (there is only 1 column but unknown ro. of rows, hence reshape the array as (-1,1))\n",
        "y = np.array(data['house price']).reshape(-1,1)   #describe your label array \n",
        "x_train, x_test, y_train, y_test = train_test_split(x, y, test_size = 0.25)  #split your dataset into training data and testing data"
      ],
      "execution_count": 35,
      "outputs": []
    },
    {
      "cell_type": "markdown",
      "metadata": {
        "id": "4AR2h5HUFHUM"
      },
      "source": [
        "**Train your dataset**"
      ]
    },
    {
      "cell_type": "code",
      "metadata": {
        "colab": {
          "base_uri": "https://localhost:8080/"
        },
        "id": "48RoPrxj-YcY",
        "outputId": "2646361f-8a19-413d-a822-a6b330156d80"
      },
      "source": [
        "regr = LinearRegression()  #call the linear regression class from sklearn module using an object name (here our object is 'regr')\n",
        "regr.fit(x_train, y_train) #access the '.fit' function of the linear regression class to train the data"
      ],
      "execution_count": 36,
      "outputs": [
        {
          "output_type": "execute_result",
          "data": {
            "text/plain": [
              "LinearRegression(copy_X=True, fit_intercept=True, n_jobs=None, normalize=False)"
            ]
          },
          "metadata": {},
          "execution_count": 36
        }
      ]
    },
    {
      "cell_type": "markdown",
      "metadata": {
        "id": "aMffPf41FLl9"
      },
      "source": [
        "**Test your dataset**\n",
        "\n",
        "Visualize your test data "
      ]
    },
    {
      "cell_type": "code",
      "metadata": {
        "colab": {
          "base_uri": "https://localhost:8080/"
        },
        "id": "z-zwHUhRE6p6",
        "outputId": "8e051b75-7400-4108-bccb-95002ddc4955"
      },
      "source": [
        "y_pred = regr.predict(x_test)  #predict the new (test) data using your trained model\n",
        "regr.score(x_test, y_test) #check how well your model has performed on the test data (accuracy)"
      ],
      "execution_count": 37,
      "outputs": [
        {
          "output_type": "execute_result",
          "data": {
            "text/plain": [
              "0.2253895281794148"
            ]
          },
          "metadata": {},
          "execution_count": 37
        }
      ]
    },
    {
      "cell_type": "code",
      "metadata": {
        "colab": {
          "base_uri": "https://localhost:8080/",
          "height": 279
        },
        "id": "Y-GVz1eg-aoC",
        "outputId": "33c21a77-e6dc-4b95-ff78-d2738e122dfb"
      },
      "source": [
        "plt.scatter(x_test, y_test, color ='red')\n",
        "plt.plot(x_test, y_pred, color ='blue')\n",
        "plt.xlabel('no. of stores')\n",
        "plt.ylabel('house price')\n",
        "plt.show()"
      ],
      "execution_count": 38,
      "outputs": [
        {
          "output_type": "display_data",
          "data": {
            "image/png": "[encoded data removed]",
            "text/plain": [
              "<Figure size 432x288 with 1 Axes>"
            ]
          },
          "metadata": {
            "needs_background": "light"
          }
        }
      ]
    }
  ]
}
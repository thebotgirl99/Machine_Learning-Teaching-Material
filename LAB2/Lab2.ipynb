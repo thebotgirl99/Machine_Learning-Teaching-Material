{
  "nbformat": 4,
  "nbformat_minor": 0,
  "metadata": {
    "colab": {
      "name": "Lab2.ipynb",
      "provenance": []
    },
    "kernelspec": {
      "name": "python3",
      "display_name": "Python 3"
    },
    "language_info": {
      "name": "python"
    }
  },
  "cells": [
    {
      "cell_type": "markdown",
      "metadata": {
        "id": "JGd733zeRUOY"
      },
      "source": [
        "Introduction and Basics to SciPy\n"
      ]
    },
    {
      "cell_type": "code",
      "metadata": {
        "colab": {
          "base_uri": "https://localhost:8080/"
        },
        "id": "pfxwH_-CRKor",
        "outputId": "c8335fe7-f806-4362-afdc-8ec0247ac064"
      },
      "source": [
        "#constants in SI units\n",
        "from scipy import constants\n",
        "print(constants.kilo)     \n",
        "print(constants.gram)        #SI unit of weight is in Kg\n",
        "print(constants.atomic_mass) #SI unit of weight is in Kg\n",
        "print(constants.degree)      #SI unit of angle is in radians\n",
        "print(constants.hour)        #SI unit of time is in seconds\n",
        "print(constants.inch)        #SI unit of length is in meters\n"
      ],
      "execution_count": 24,
      "outputs": [
        {
          "output_type": "stream",
          "name": "stdout",
          "text": [
            "1000.0\n",
            "0.001\n",
            "1.6605390666e-27\n",
            "0.017453292519943295\n",
            "3600.0\n",
            "0.0254\n"
          ]
        }
      ]
    },
    {
      "cell_type": "markdown",
      "metadata": {
        "id": "-LmH5PACU1tw"
      },
      "source": [
        "SciPy Optimizer"
      ]
    },
    {
      "cell_type": "code",
      "metadata": {
        "colab": {
          "base_uri": "https://localhost:8080/"
        },
        "id": "BiXZ0cxaStss",
        "outputId": "418c8e48-8268-4d8f-cc99-4b7424893cbb"
      },
      "source": [
        "#Roots of an equation\n",
        "from scipy.optimize import root\n",
        "from math import cos\n",
        "\n",
        "def myequation(y):\n",
        "  a = (2*y) + cos(y)\n",
        "  return a\n",
        "\n",
        "myroots= root(myequation, 0)\n",
        "print(myroots.x)\n"
      ],
      "execution_count": 28,
      "outputs": [
        {
          "output_type": "stream",
          "name": "stdout",
          "text": [
            "[-0.45018361]\n"
          ]
        }
      ]
    },
    {
      "cell_type": "code",
      "metadata": {
        "colab": {
          "base_uri": "https://localhost:8080/"
        },
        "id": "NVDTHfBCVPM3",
        "outputId": "347767ab-861f-4269-bd6f-e94e7bf5f257"
      },
      "source": [
        "#finding the global minima of a given function\n",
        "from scipy.optimize import minimize\n",
        "\n",
        "def minimizer(x):\n",
        "  m = (x**3) + (3*x) + 3\n",
        "  return m\n",
        "\n",
        "minima = minimize(minimizer, 0, method = \"BFGS\")\n",
        "\n",
        "print(minima.x)"
      ],
      "execution_count": 29,
      "outputs": [
        {
          "output_type": "stream",
          "name": "stdout",
          "text": [
            "[-3.6149308e+08]\n"
          ]
        }
      ]
    },
    {
      "cell_type": "markdown",
      "metadata": {
        "id": "DODghI9cZXEK"
      },
      "source": [
        "SciPy Sparse Data"
      ]
    },
    {
      "cell_type": "code",
      "metadata": {
        "colab": {
          "base_uri": "https://localhost:8080/"
        },
        "id": "jps-Ju-9XmQ4",
        "outputId": "91884c89-856a-4b42-cfeb-1edf4ff4a76a"
      },
      "source": [
        "#sparse data refers to a matrix or an array having many zeros within it\n",
        "import numpy as np\n",
        "from scipy.sparse import csr_matrix\n",
        "\n",
        "array = np.array([ 0, 1 , 0, 0 , 0, 3, 0 , 6, 0 , 0 ,2])\n",
        "\n",
        "print(csr_matrix(array))  #print the location of true data\n",
        "print(csr_matrix(array).data)  #print the array containing true data points\n",
        "print(csr_matrix(array).count_nonzero()) #count the number of nonzero elements in the given array\n",
        "\n",
        "mat = np.array([[ 0, 1 , 0] , [0 , 0, 3] , [0 , 6, 0 ] , [0 ,2 , 0]])\n",
        "newmat = csr_matrix(mat)  \n",
        "newmat.eliminate_zeros()  #ignore/eliminate the zeros in the matrix\n",
        "print(newmat)\n",
        "\n"
      ],
      "execution_count": 30,
      "outputs": [
        {
          "output_type": "stream",
          "name": "stdout",
          "text": [
            "  (0, 1)\t1\n",
            "  (0, 5)\t3\n",
            "  (0, 7)\t6\n",
            "  (0, 10)\t2\n",
            "[1 3 6 2]\n",
            "4\n",
            "  (0, 1)\t1\n",
            "  (1, 2)\t3\n",
            "  (2, 1)\t6\n",
            "  (3, 1)\t2\n"
          ]
        }
      ]
    },
    {
      "cell_type": "code",
      "metadata": {
        "colab": {
          "base_uri": "https://localhost:8080/"
        },
        "id": "pEzCWQsKeJFk",
        "outputId": "142b99dc-192a-4c77-f4b7-64e88707627d"
      },
      "source": [
        "xs = np.arange(10)\n",
        "print(xs)"
      ],
      "execution_count": 43,
      "outputs": [
        {
          "output_type": "stream",
          "name": "stdout",
          "text": [
            "[0 1 2 3 4 5 6 7 8 9]\n"
          ]
        }
      ]
    },
    {
      "cell_type": "markdown",
      "metadata": {
        "id": "ogvg_8DPcqPG"
      },
      "source": [
        "SciPy Interpolation"
      ]
    },
    {
      "cell_type": "code",
      "metadata": {
        "colab": {
          "base_uri": "https://localhost:8080/",
          "height": 282
        },
        "id": "Yh0ocbN5cIpd",
        "outputId": "718fbd08-fa8e-4918-b195-e5abc1b3299b"
      },
      "source": [
        "#1D interpolation between 3 to 3.9\n",
        "import numpy as np\n",
        "from scipy.interpolate import interp1d\n",
        "\n",
        "x= np.arange(10)\n",
        "y= (3*x) + 2\n",
        "\n",
        "interp1 = interp1d(x,y)\n",
        "newval = interp1(np.arange(3, 3.9, 0.1))\n",
        "\n",
        "print(newval)\n",
        "\n",
        "x= np.linspace(0, 10, num=11, endpoint=True)  #individual data points\n",
        "y = np.cos(-x**2/9.0)\n",
        "f = interp1d(x, y)  #staright line (linear) function joining the data points\n",
        "f2 = interp1d(x, y, kind='cubic')  #curved (polynomial) joining of the data points\n",
        "\n",
        "xnew = np.linspace(0, 10, num=41, endpoint=True)\n",
        "\n",
        "import matplotlib.pyplot as plt\n",
        "\n",
        "plt.plot(x, y, 'o', xnew, f(xnew), '-', xnew, f2(xnew), '--')\n",
        "plt.legend(['data', 'linear', 'cubic'])\n",
        "plt.show()"
      ],
      "execution_count": 35,
      "outputs": [
        {
          "output_type": "stream",
          "name": "stdout",
          "text": [
            "[11.  11.3 11.6 11.9 12.2 12.5 12.8 13.1 13.4]\n"
          ]
        },
        {
          "output_type": "display_data",
          "data": {
            "image/png": "[encoded data removed]",
            "text/plain": [
              "<Figure size 432x288 with 1 Axes>"
            ]
          },
          "metadata": {
            "needs_background": "light"
          }
        }
      ]
    },
    {
      "cell_type": "code",
      "metadata": {
        "colab": {
          "base_uri": "https://localhost:8080/"
        },
        "id": "TdQkGjlifnqc",
        "outputId": "3fdfe23f-05d4-4317-da51-74b0517dc608"
      },
      "source": [
        "#Polynomial interpolation between 3 to 3.9\n",
        "from scipy.interpolate import UnivariateSpline\n",
        "\n",
        "x= np.arange(10) \n",
        "y= x**2 + np.cos(x) + 2 \n",
        "\n",
        "interpol = UnivariateSpline(x,y)\n",
        "newval = interpol(np.arange(3, 3.9, 0.1))\n",
        "\n",
        "print(newval)"
      ],
      "execution_count": 48,
      "outputs": [
        {
          "output_type": "stream",
          "name": "stdout",
          "text": [
            "[10.40687495 11.03809333 11.69249647 12.36987072 13.07000241 13.79267788\n",
            " 14.53768348 15.30480555 16.09383042]\n"
          ]
        }
      ]
    },
    {
      "cell_type": "markdown",
      "metadata": {
        "id": "kGE8wWLGaOSd"
      },
      "source": [
        "Mean, Variance, Covariance using NumPy"
      ]
    },
    {
      "cell_type": "code",
      "metadata": {
        "colab": {
          "base_uri": "https://localhost:8080/",
          "height": 370
        },
        "id": "iAkdM2bGZYk_",
        "outputId": "ccb6ebea-3cab-4052-9a18-875c3be7fa8a"
      },
      "source": [
        "from math import sqrt\n",
        "array = np.random.randint(10, size=(3, 2))\n",
        "print(array)\n",
        "\n",
        "print(np.mean(array))  #expected value/mean of array\n",
        "\n",
        "sigma2= np.var(array)  #variance of array\n",
        "print(sigma2)\n",
        "\n",
        "stddev = sqrt(sigma2)  #standard deviation of array\n",
        "print(stddev)\n",
        "\n",
        "import seaborn as sn\n",
        "import matplotlib.pyplot as plt\n",
        "\n",
        "covMatrix = np.cov(array,bias=True)          #visualize the covariance matrix\n",
        "sn.heatmap(covMatrix, annot=True, fmt='g')\n",
        "plt.show()"
      ],
      "execution_count": 42,
      "outputs": [
        {
          "output_type": "stream",
          "name": "stdout",
          "text": [
            "[[0 4]\n",
            " [2 5]\n",
            " [4 3]]\n",
            "3.0\n",
            "2.6666666666666665\n",
            "1.632993161855452\n"
          ]
        },
        {
          "output_type": "display_data",
          "data": {
            "image/png": "[encoded data removed]",
            "text/plain": [
              "<Figure size 432x288 with 2 Axes>"
            ]
          },
          "metadata": {
            "needs_background": "light"
          }
        }
      ]
    },
    {
      "cell_type": "markdown",
      "metadata": {
        "id": "rXqpb0xIdZqJ"
      },
      "source": [
        "Next Class : Basics of Machine Learning - Linear Regression"
      ]
    }
  ]
}
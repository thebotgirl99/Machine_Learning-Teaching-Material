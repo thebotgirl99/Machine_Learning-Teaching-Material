{
  "nbformat": 4,
  "nbformat_minor": 0,
  "metadata": {
    "colab": {
      "name": "Examples2.ipynb",
      "provenance": []
    },
    "kernelspec": {
      "name": "python3",
      "display_name": "Python 3"
    },
    "language_info": {
      "name": "python"
    }
  },
  "cells": [
    {
      "cell_type": "code",
      "metadata": {
        "colab": {
          "base_uri": "https://localhost:8080/"
        },
        "id": "X0oxp2EvgnHw",
        "outputId": "4eeb8205-1229-4b83-fa3f-a55aa7ef6295"
      },
      "source": [
        "#functions, global and local variables\n",
        "a = 3 #global variable\n",
        "def myfirstfunc():  #function\n",
        "  a= \"hi\" #local variable\n",
        "  print(a)\n",
        "\n",
        "myfirstfunc()\n",
        "print(a)\n",
        "\n",
        "#arguments\n",
        "def myfirstfunc(name): #name here is a parameter\n",
        "  a= \"welcome to \" \n",
        "  print(a + name)\n",
        "\n",
        "myfirstfunc(\"sem1\")   #sem1 here is an argument\n",
        "\n",
        "#return and pass statements\n",
        "def myfirstfunc(p,q):\n",
        "  return (p*q)\n",
        "print(myfirstfunc(3,5))\n",
        "\n",
        "def myfirstfunc():\n",
        "   pass"
      ],
      "execution_count": 1,
      "outputs": [
        {
          "output_type": "stream",
          "name": "stdout",
          "text": [
            "hi\n",
            "3\n",
            "welcome to sem1\n",
            "15\n"
          ]
        }
      ]
    },
    {
      "cell_type": "code",
      "metadata": {
        "colab": {
          "base_uri": "https://localhost:8080/"
        },
        "id": "rRJ4EsSngoD_",
        "outputId": "1fb1b927-bdd8-4d92-fcad-da833e103616"
      },
      "source": [
        "#classes and objects\n",
        "class mypythonclass:  #your class name is 'mypythonclass'\n",
        "  a = 5               #Here 'a' is your property existing within your class\n",
        "\n",
        "answer = mypythonclass()  #Here 'answer' is your object\n",
        "print(answer.a)           #access the 'a' variable of your class\n",
        "\n",
        "class myinitclass:     #your class name is 'myinitclass'\n",
        "  def __init__(self, name, place):   #initialize your parameters name and place using 'self'. 'self' could be replaced by anything\n",
        "    self.name = name\n",
        "    self.place = place\n",
        "\n",
        "  def intro(self):\n",
        "    print(\"My name is \" + self.name + \" and I am from \" + self.place)  #define your print function using the above parameters\n",
        "\n",
        "newanswer = myinitclass(\"Devasena\", \"Tirupati\")  #write your object\n",
        "newanswer.intro()                                #access your object\n"
      ],
      "execution_count": 12,
      "outputs": [
        {
          "output_type": "stream",
          "name": "stdout",
          "text": [
            "5\n",
            "My name is Devasena and I am from Tirupati\n"
          ]
        }
      ]
    },
    {
      "cell_type": "code",
      "metadata": {
        "colab": {
          "base_uri": "https://localhost:8080/"
        },
        "id": "lmvzAbLwkD-_",
        "outputId": "ac372c21-ddaf-412d-e084-f60efb2db376"
      },
      "source": [
        "#lambda functions (can take any number of inputs/arguments, but it can only have one output/expression)\n",
        "k = lambda x, y : x ** y\n",
        "print(k(5, 2))\n",
        "\n",
        "def myfunc(p):\n",
        "  return lambda p : p+2\n",
        "\n",
        "odd = myfunc(2)\n",
        "print(odd(1))\n"
      ],
      "execution_count": 17,
      "outputs": [
        {
          "output_type": "stream",
          "name": "stdout",
          "text": [
            "25\n",
            "3\n"
          ]
        }
      ]
    },
    {
      "cell_type": "markdown",
      "metadata": {
        "id": "82N_T4Vulk7m"
      },
      "source": [
        "Next Class: Inheritance, User input"
      ]
    }
  ]
}
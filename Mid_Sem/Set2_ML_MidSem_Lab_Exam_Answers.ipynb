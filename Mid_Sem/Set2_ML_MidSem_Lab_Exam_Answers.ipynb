{
  "nbformat": 4,
  "nbformat_minor": 0,
  "metadata": {
    "colab": {
      "name": "Set2_ML_MidSem_Lab_Exam_Answers.ipynb",
      "provenance": []
    },
    "kernelspec": {
      "name": "python3",
      "display_name": "Python 3"
    },
    "language_info": {
      "name": "python"
    }
  },
  "cells": [
    {
      "cell_type": "markdown",
      "metadata": {
        "id": "K9Sq6k1WcV6M"
      },
      "source": [
        "**MCQs and Fill in the blanks Answers:**\n",
        "1. (A) Boosting\n",
        "2. (A) Reinforcement Learning\n",
        "3. Curse of dimensionality\n",
        "4. high variance, low bias"
      ]
    },
    {
      "cell_type": "markdown",
      "metadata": {
        "id": "_i2tSrW7cdGS"
      },
      "source": [
        "**Q5A - KMeans : 4 marks**"
      ]
    },
    {
      "cell_type": "code",
      "metadata": {
        "id": "u-bwMFjncRe7"
      },
      "source": [
        "import pandas as pd\n",
        "import numpy as np\n",
        "import matplotlib.pyplot as plt\n",
        "import seaborn as sn\n",
        "from sklearn.model_selection import train_test_split\n",
        "from sklearn.cluster import KMeans"
      ],
      "execution_count": 7,
      "outputs": []
    },
    {
      "cell_type": "code",
      "metadata": {
        "id": "8g64VZG7choZ"
      },
      "source": [
        "x = np.array([[3.673,3.396], [2.289,3.601], [1.347,2.203], [1.971,2.567],[2.486,1.459], [2.221,2.106], [3.540,1.429], [3.159,2.999], [1.703,1.186], [1.254,3.152]])"
      ],
      "execution_count": 8,
      "outputs": []
    },
    {
      "cell_type": "code",
      "metadata": {
        "colab": {
          "base_uri": "https://localhost:8080/"
        },
        "id": "fgg9NIa1cp3Z",
        "outputId": "750ba024-d853-4097-caad-11f900f0998a"
      },
      "source": [
        "model = KMeans(n_clusters = 3,init='k-means++')  #answer: K=3 performs better than K=2. This can be visually noticed in the plot.\n",
        "pred= model.fit_predict(x) \n",
        "print(pred)"
      ],
      "execution_count": 9,
      "outputs": [
        {
          "output_type": "stream",
          "name": "stdout",
          "text": [
            "[1 1 2 2 0 0 0 1 0 2]\n"
          ]
        }
      ]
    },
    {
      "cell_type": "code",
      "metadata": {
        "colab": {
          "base_uri": "https://localhost:8080/"
        },
        "id": "3M1kt0KHcrj1",
        "outputId": "5b578945-c0ab-4cac-87af-3eb5bebfb691"
      },
      "source": [
        "centers = model.cluster_centers_ \n",
        "print(centers)"
      ],
      "execution_count": 10,
      "outputs": [
        {
          "output_type": "stream",
          "name": "stdout",
          "text": [
            "[[2.4875     1.545     ]\n",
            " [3.04033333 3.332     ]\n",
            " [1.524      2.64066667]]\n"
          ]
        }
      ]
    },
    {
      "cell_type": "code",
      "metadata": {
        "colab": {
          "base_uri": "https://localhost:8080/",
          "height": 297
        },
        "id": "JZ0Wyn7ccsMh",
        "outputId": "e77681d4-9d82-4c94-bad8-4a7b949aacdc"
      },
      "source": [
        "plt.scatter(x[:,0], x[:,1], c=pred, cmap='rainbow')  \n",
        "plt.xlabel('P')\n",
        "plt.ylabel('Q')\n",
        "plt.scatter(centers[:, 0], centers[:, 1], s = 300, c = 'yellow')"
      ],
      "execution_count": 11,
      "outputs": [
        {
          "output_type": "execute_result",
          "data": {
            "text/plain": [
              "<matplotlib.collections.PathCollection at 0x7f358371be10>"
            ]
          },
          "metadata": {},
          "execution_count": 11
        },
        {
          "output_type": "display_data",
          "data": {
            "image/png": "[encoded data removed]",
            "text/plain": [
              "<Figure size 432x288 with 1 Axes>"
            ]
          },
          "metadata": {
            "needs_background": "light"
          }
        }
      ]
    },
    {
      "cell_type": "code",
      "metadata": {
        "colab": {
          "base_uri": "https://localhost:8080/"
        },
        "id": "PB8O6EOXcvZa",
        "outputId": "38a04f02-a445-4247-feec-be46b4dd2a5e"
      },
      "source": [
        "test = [[2.523,2.706]]  #answer: for the given data point, for k=3, the class predicted by the model=1. This is verfied from the plot above. \n",
        "model.predict(test)"
      ],
      "execution_count": 12,
      "outputs": [
        {
          "output_type": "execute_result",
          "data": {
            "text/plain": [
              "array([1], dtype=int32)"
            ]
          },
          "metadata": {},
          "execution_count": 12
        }
      ]
    },
    {
      "cell_type": "markdown",
      "metadata": {
        "id": "YDVnJSBwd_r2"
      },
      "source": [
        "**Q5B - Agglomerative : 2 marks**"
      ]
    },
    {
      "cell_type": "code",
      "metadata": {
        "colab": {
          "base_uri": "https://localhost:8080/",
          "height": 298
        },
        "id": "gPnKQMGCeCxR",
        "outputId": "51968083-5b74-4c00-f109-909e830914d9"
      },
      "source": [
        "from sklearn.cluster import AgglomerativeClustering\n",
        "import scipy.cluster.hierarchy as shc\n",
        "plt.title(\"Agglomerative Dendogram\")\n",
        "dend = shc.dendrogram(shc.linkage(x, method='ward'), p=4, truncate_mode=\"level\" )  #k=2 is the optimal value of k from the dendrogram.\n",
        "plt.xlabel(\"Number of points in node\")\n",
        "plt.show()"
      ],
      "execution_count": 13,
      "outputs": [
        {
          "output_type": "display_data",
          "data": {
            "image/png": "[encoded data removed]",
            "text/plain": [
              "<Figure size 432x288 with 1 Axes>"
            ]
          },
          "metadata": {
            "needs_background": "light"
          }
        }
      ]
    },
    {
      "cell_type": "code",
      "metadata": {
        "colab": {
          "base_uri": "https://localhost:8080/"
        },
        "id": "4_m-y6GIeKfN",
        "outputId": "f06bd90f-c25d-4737-a624-51724e49de8f"
      },
      "source": [
        "model1 = AgglomerativeClustering(n_clusters=2)  #visually the point P = 2.523 and Q =2.706 belongs to class 0\n",
        "pred= model1.fit_predict(x)\n",
        "print(pred)"
      ],
      "execution_count": 14,
      "outputs": [
        {
          "output_type": "stream",
          "name": "stdout",
          "text": [
            "[1 0 0 0 0 0 1 1 0 0]\n"
          ]
        }
      ]
    },
    {
      "cell_type": "code",
      "metadata": {
        "colab": {
          "base_uri": "https://localhost:8080/",
          "height": 297
        },
        "id": "pjeDkhzleVHN",
        "outputId": "1215164b-b534-4f7d-a738-afb0ea2f5e49"
      },
      "source": [
        "plt.scatter(x[:, 0], x[:, 1], c=pred, cmap='rainbow')  #For this data set, k means clustering gives a better output than agglomerative clustering.\n",
        "plt.xlabel('P')\n",
        "plt.ylabel('Q')"
      ],
      "execution_count": 15,
      "outputs": [
        {
          "output_type": "execute_result",
          "data": {
            "text/plain": [
              "Text(0, 0.5, 'Q')"
            ]
          },
          "metadata": {},
          "execution_count": 15
        },
        {
          "output_type": "display_data",
          "data": {
            "image/png": "[encoded data removed]",
            "text/plain": [
              "<Figure size 432x288 with 1 Axes>"
            ]
          },
          "metadata": {
            "needs_background": "light"
          }
        }
      ]
    },
    {
      "cell_type": "markdown",
      "metadata": {
        "id": "KvrAxsAiecB5"
      },
      "source": [
        "**Q6A - Logistic : 4 marks**"
      ]
    },
    {
      "cell_type": "code",
      "metadata": {
        "id": "rPoWLrT4eeE_"
      },
      "source": [
        "import pandas as pd\n",
        "import numpy as np\n",
        "import seaborn as sn\n",
        "from sklearn.model_selection import train_test_split\n",
        "from sklearn.linear_model import LogisticRegression\n",
        "from scipy.special import expit\n",
        "from sklearn.preprocessing import LabelEncoder"
      ],
      "execution_count": 16,
      "outputs": []
    },
    {
      "cell_type": "code",
      "metadata": {
        "id": "K4hGAWzuehhj"
      },
      "source": [
        "dataset = pd.read_csv('/content/airlines.csv')\n",
        "lbl = LabelEncoder()  #converting categorical data from satisfaction and gender columns to numerical data\n",
        "dataset['satisfaction_class'] = lbl.fit_transform(dataset['satisfaction'])\n",
        "dataset['gender_class'] = lbl.fit_transform(dataset['Gender'])"
      ],
      "execution_count": 18,
      "outputs": []
    },
    {
      "cell_type": "code",
      "metadata": {
        "colab": {
          "base_uri": "https://localhost:8080/",
          "height": 448
        },
        "id": "EYNPiC9WejJi",
        "outputId": "3d864c5e-7fe5-4a2a-c4c6-a8161442ecdf"
      },
      "source": [
        "sn.heatmap(dataset.corr(), annot = True, linewidths = 0.8, linecolor = 'w', square = True, fmt = '.2f')"
      ],
      "execution_count": 19,
      "outputs": [
        {
          "output_type": "execute_result",
          "data": {
            "text/plain": [
              "<matplotlib.axes._subplots.AxesSubplot at 0x7f3583529e10>"
            ]
          },
          "metadata": {},
          "execution_count": 19
        },
        {
          "output_type": "display_data",
          "data": {
            "image/png": "[encoded data removed]",
            "text/plain": [
              "<Figure size 432x288 with 2 Axes>"
            ]
          },
          "metadata": {
            "needs_background": "light"
          }
        }
      ]
    },
    {
      "cell_type": "code",
      "metadata": {
        "colab": {
          "base_uri": "https://localhost:8080/",
          "height": 423
        },
        "id": "44rzwvW6ekvQ",
        "outputId": "efa00317-1274-4468-d4d6-c2944c5d7ec7"
      },
      "source": [
        "data = dataset[['Inflight entertainment', 'satisfaction_class']] #inflight entertainment is the most suitable input feature\n",
        "data.columns = ['entertainment','satisfaction']\n",
        "data"
      ],
      "execution_count": 20,
      "outputs": [
        {
          "output_type": "execute_result",
          "data": {
            "text/html": [
              "<div>\n",
              "<style scoped>\n",
              "    .dataframe tbody tr th:only-of-type {\n",
              "        vertical-align: middle;\n",
              "    }\n",
              "\n",
              "    .dataframe tbody tr th {\n",
              "        vertical-align: top;\n",
              "    }\n",
              "\n",
              "    .dataframe thead th {\n",
              "        text-align: right;\n",
              "    }\n",
              "</style>\n",
              "<table border=\"1\" class=\"dataframe\">\n",
              "  <thead>\n",
              "    <tr style=\"text-align: right;\">\n",
              "      <th></th>\n",
              "      <th>entertainment</th>\n",
              "      <th>satisfaction</th>\n",
              "    </tr>\n",
              "  </thead>\n",
              "  <tbody>\n",
              "    <tr>\n",
              "      <th>0</th>\n",
              "      <td>4</td>\n",
              "      <td>1</td>\n",
              "    </tr>\n",
              "    <tr>\n",
              "      <th>1</th>\n",
              "      <td>2</td>\n",
              "      <td>1</td>\n",
              "    </tr>\n",
              "    <tr>\n",
              "      <th>2</th>\n",
              "      <td>0</td>\n",
              "      <td>1</td>\n",
              "    </tr>\n",
              "    <tr>\n",
              "      <th>3</th>\n",
              "      <td>4</td>\n",
              "      <td>1</td>\n",
              "    </tr>\n",
              "    <tr>\n",
              "      <th>4</th>\n",
              "      <td>3</td>\n",
              "      <td>1</td>\n",
              "    </tr>\n",
              "    <tr>\n",
              "      <th>...</th>\n",
              "      <td>...</td>\n",
              "      <td>...</td>\n",
              "    </tr>\n",
              "    <tr>\n",
              "      <th>129875</th>\n",
              "      <td>5</td>\n",
              "      <td>1</td>\n",
              "    </tr>\n",
              "    <tr>\n",
              "      <th>129876</th>\n",
              "      <td>1</td>\n",
              "      <td>0</td>\n",
              "    </tr>\n",
              "    <tr>\n",
              "      <th>129877</th>\n",
              "      <td>2</td>\n",
              "      <td>0</td>\n",
              "    </tr>\n",
              "    <tr>\n",
              "      <th>129878</th>\n",
              "      <td>2</td>\n",
              "      <td>0</td>\n",
              "    </tr>\n",
              "    <tr>\n",
              "      <th>129879</th>\n",
              "      <td>3</td>\n",
              "      <td>0</td>\n",
              "    </tr>\n",
              "  </tbody>\n",
              "</table>\n",
              "<p>129880 rows × 2 columns</p>\n",
              "</div>"
            ],
            "text/plain": [
              "        entertainment  satisfaction\n",
              "0                   4             1\n",
              "1                   2             1\n",
              "2                   0             1\n",
              "3                   4             1\n",
              "4                   3             1\n",
              "...               ...           ...\n",
              "129875              5             1\n",
              "129876              1             0\n",
              "129877              2             0\n",
              "129878              2             0\n",
              "129879              3             0\n",
              "\n",
              "[129880 rows x 2 columns]"
            ]
          },
          "metadata": {},
          "execution_count": 20
        }
      ]
    },
    {
      "cell_type": "code",
      "metadata": {
        "id": "8c8G-2J-eogQ"
      },
      "source": [
        "x = np.array(data['entertainment']).reshape(-1,1) \n",
        "y = np.array(data['satisfaction']).reshape(-1,1)  \n",
        "x_train, x_test, y_train, y_test = train_test_split(x, y, test_size = 0.36) "
      ],
      "execution_count": 25,
      "outputs": []
    },
    {
      "cell_type": "code",
      "metadata": {
        "colab": {
          "base_uri": "https://localhost:8080/"
        },
        "id": "-Kk4dZYderRN",
        "outputId": "5aab8837-d544-4463-cb3b-f5a8090c7d5d"
      },
      "source": [
        "regr = LogisticRegression()\n",
        "regr.fit(x_train, y_train)"
      ],
      "execution_count": 26,
      "outputs": [
        {
          "output_type": "stream",
          "name": "stderr",
          "text": [
            "/usr/local/lib/python3.7/dist-packages/sklearn/utils/validation.py:985: DataConversionWarning: A column-vector y was passed when a 1d array was expected. Please change the shape of y to (n_samples, ), for example using ravel().\n",
            "  y = column_or_1d(y, warn=True)\n"
          ]
        },
        {
          "output_type": "execute_result",
          "data": {
            "text/plain": [
              "LogisticRegression()"
            ]
          },
          "metadata": {},
          "execution_count": 26
        }
      ]
    },
    {
      "cell_type": "code",
      "metadata": {
        "colab": {
          "base_uri": "https://localhost:8080/"
        },
        "id": "9uZhRsmletaD",
        "outputId": "64920453-2797-4b4e-8b40-d9e982c57448"
      },
      "source": [
        "print(regr.score(x_train, y_train)) "
      ],
      "execution_count": 27,
      "outputs": [
        {
          "output_type": "stream",
          "name": "stdout",
          "text": [
            "0.8021606534894072\n"
          ]
        }
      ]
    },
    {
      "cell_type": "code",
      "metadata": {
        "colab": {
          "base_uri": "https://localhost:8080/"
        },
        "id": "k8ea_cLNeu81",
        "outputId": "57f0660d-547c-4a35-a676-60bacf6f5b07"
      },
      "source": [
        "y_pred = regr.predict(x_test)  #the test accuracy is more than train accuracy but only by a minimal amount which shows that minimal overfitting has happened. K fold cross validation is one technique we can use to avoid this in the future.\n",
        "print(regr.score(x_test, y_test)) \n",
        "print(np.round_(regr.coef_, decimals = 2)) \n",
        "print(np.round_(regr.intercept_, decimals = 2))  #ln(p/1-p) = -3.19 + 1(x) is my logistic regression equation"
      ],
      "execution_count": 29,
      "outputs": [
        {
          "output_type": "stream",
          "name": "stdout",
          "text": [
            "0.8021686592381889\n",
            "[[1.]]\n",
            "[-3.19]\n"
          ]
        }
      ]
    },
    {
      "cell_type": "code",
      "metadata": {
        "colab": {
          "base_uri": "https://localhost:8080/",
          "height": 279
        },
        "id": "bKuPo7hfewzv",
        "outputId": "7d1ff56b-94d4-4801-e756-fca90da43b4f"
      },
      "source": [
        "X_test = np.linspace(0, 6, 10000)  #from the graph, for entertainment =3.9, satisfaction lies towards 1 which means \"satisfied\"\n",
        "Y = expit(X_test * regr.coef_ + regr.intercept_).flatten()  \n",
        "plt.scatter(x_test, y_test, color ='red')\n",
        "plt.plot(X_test, Y, color ='blue', linewidth= 5)\n",
        "plt.xlabel('entertainment')\n",
        "plt.ylabel('satisfaction')\n",
        "plt.show()"
      ],
      "execution_count": 31,
      "outputs": [
        {
          "output_type": "display_data",
          "data": {
            "image/png": "[encoded data removed]",
            "text/plain": [
              "<Figure size 432x288 with 1 Axes>"
            ]
          },
          "metadata": {
            "needs_background": "light"
          }
        }
      ]
    },
    {
      "cell_type": "markdown",
      "metadata": {
        "id": "TbmmhpkLfkKP"
      },
      "source": [
        "**Q6B - KNN Classification : 3 marks**"
      ]
    },
    {
      "cell_type": "code",
      "metadata": {
        "colab": {
          "base_uri": "https://localhost:8080/",
          "height": 423
        },
        "id": "Hh0cyGBIfoRW",
        "outputId": "906d1837-af4e-4f55-c42c-988d35ebd02e"
      },
      "source": [
        "from sklearn.neighbors import KNeighborsClassifier\n",
        "from matplotlib.colors import ListedColormap\n",
        "data = dataset[['Inflight entertainment', 'On-board service','satisfaction_class']] #from the correlation plot, entertainment and inflight service are highly correlated with satisfaction\n",
        "data.columns = ['entertainment','service','satisfaction']\n",
        "data"
      ],
      "execution_count": 32,
      "outputs": [
        {
          "output_type": "execute_result",
          "data": {
            "text/html": [
              "<div>\n",
              "<style scoped>\n",
              "    .dataframe tbody tr th:only-of-type {\n",
              "        vertical-align: middle;\n",
              "    }\n",
              "\n",
              "    .dataframe tbody tr th {\n",
              "        vertical-align: top;\n",
              "    }\n",
              "\n",
              "    .dataframe thead th {\n",
              "        text-align: right;\n",
              "    }\n",
              "</style>\n",
              "<table border=\"1\" class=\"dataframe\">\n",
              "  <thead>\n",
              "    <tr style=\"text-align: right;\">\n",
              "      <th></th>\n",
              "      <th>entertainment</th>\n",
              "      <th>service</th>\n",
              "      <th>satisfaction</th>\n",
              "    </tr>\n",
              "  </thead>\n",
              "  <tbody>\n",
              "    <tr>\n",
              "      <th>0</th>\n",
              "      <td>4</td>\n",
              "      <td>3</td>\n",
              "      <td>1</td>\n",
              "    </tr>\n",
              "    <tr>\n",
              "      <th>1</th>\n",
              "      <td>2</td>\n",
              "      <td>4</td>\n",
              "      <td>1</td>\n",
              "    </tr>\n",
              "    <tr>\n",
              "      <th>2</th>\n",
              "      <td>0</td>\n",
              "      <td>3</td>\n",
              "      <td>1</td>\n",
              "    </tr>\n",
              "    <tr>\n",
              "      <th>3</th>\n",
              "      <td>4</td>\n",
              "      <td>1</td>\n",
              "      <td>1</td>\n",
              "    </tr>\n",
              "    <tr>\n",
              "      <th>4</th>\n",
              "      <td>3</td>\n",
              "      <td>2</td>\n",
              "      <td>1</td>\n",
              "    </tr>\n",
              "    <tr>\n",
              "      <th>...</th>\n",
              "      <td>...</td>\n",
              "      <td>...</td>\n",
              "      <td>...</td>\n",
              "    </tr>\n",
              "    <tr>\n",
              "      <th>129875</th>\n",
              "      <td>5</td>\n",
              "      <td>3</td>\n",
              "      <td>1</td>\n",
              "    </tr>\n",
              "    <tr>\n",
              "      <th>129876</th>\n",
              "      <td>1</td>\n",
              "      <td>2</td>\n",
              "      <td>0</td>\n",
              "    </tr>\n",
              "    <tr>\n",
              "      <th>129877</th>\n",
              "      <td>2</td>\n",
              "      <td>4</td>\n",
              "      <td>0</td>\n",
              "    </tr>\n",
              "    <tr>\n",
              "      <th>129878</th>\n",
              "      <td>2</td>\n",
              "      <td>3</td>\n",
              "      <td>0</td>\n",
              "    </tr>\n",
              "    <tr>\n",
              "      <th>129879</th>\n",
              "      <td>3</td>\n",
              "      <td>5</td>\n",
              "      <td>0</td>\n",
              "    </tr>\n",
              "  </tbody>\n",
              "</table>\n",
              "<p>129880 rows × 3 columns</p>\n",
              "</div>"
            ],
            "text/plain": [
              "        entertainment  service  satisfaction\n",
              "0                   4        3             1\n",
              "1                   2        4             1\n",
              "2                   0        3             1\n",
              "3                   4        1             1\n",
              "4                   3        2             1\n",
              "...               ...      ...           ...\n",
              "129875              5        3             1\n",
              "129876              1        2             0\n",
              "129877              2        4             0\n",
              "129878              2        3             0\n",
              "129879              3        5             0\n",
              "\n",
              "[129880 rows x 3 columns]"
            ]
          },
          "metadata": {},
          "execution_count": 32
        }
      ]
    },
    {
      "cell_type": "code",
      "metadata": {
        "id": "2h4UTpxpfuC4"
      },
      "source": [
        "x = np.array(data[['entertainment', 'service']]).reshape(-1,2) \n",
        "y = np.array(data['satisfaction']).reshape(-1,1)  \n",
        "x_train,x_test,y_train,y_test = train_test_split(x,y,test_size=0.36)"
      ],
      "execution_count": 33,
      "outputs": []
    },
    {
      "cell_type": "code",
      "metadata": {
        "colab": {
          "base_uri": "https://localhost:8080/"
        },
        "id": "gVwSgSsWfueS",
        "outputId": "068918bc-eefe-4326-d247-c0f6cd69963d"
      },
      "source": [
        "cls = KNeighborsClassifier(n_neighbors=8)  \n",
        "cls.fit(x_train, y_train)"
      ],
      "execution_count": 34,
      "outputs": [
        {
          "output_type": "stream",
          "name": "stderr",
          "text": [
            "/usr/local/lib/python3.7/dist-packages/sklearn/neighbors/_classification.py:198: DataConversionWarning: A column-vector y was passed when a 1d array was expected. Please change the shape of y to (n_samples,), for example using ravel().\n",
            "  return self._fit(X, y)\n"
          ]
        },
        {
          "output_type": "execute_result",
          "data": {
            "text/plain": [
              "KNeighborsClassifier(n_neighbors=8)"
            ]
          },
          "metadata": {},
          "execution_count": 34
        }
      ]
    },
    {
      "cell_type": "code",
      "metadata": {
        "colab": {
          "base_uri": "https://localhost:8080/"
        },
        "id": "73n9Z4hzfwRA",
        "outputId": "84ab947e-53f9-4822-9d76-48beba98aa4b"
      },
      "source": [
        "cls.score(x_train, y_train)"
      ],
      "execution_count": 35,
      "outputs": [
        {
          "output_type": "execute_result",
          "data": {
            "text/plain": [
              "0.8094269937321801"
            ]
          },
          "metadata": {},
          "execution_count": 35
        }
      ]
    },
    {
      "cell_type": "code",
      "metadata": {
        "colab": {
          "base_uri": "https://localhost:8080/"
        },
        "id": "V8ji5suXfz-W",
        "outputId": "dbb2cdcb-15e9-4830-cec2-2c6675ad8828"
      },
      "source": [
        "cls.score(x_test, y_test) #the test accuracy is slightly less than train accuracy which means our model is correct. "
      ],
      "execution_count": 37,
      "outputs": [
        {
          "output_type": "execute_result",
          "data": {
            "text/plain": [
              "0.8058900271617084"
            ]
          },
          "metadata": {},
          "execution_count": 37
        }
      ]
    },
    {
      "cell_type": "code",
      "metadata": {
        "colab": {
          "base_uri": "https://localhost:8080/",
          "height": 283
        },
        "id": "vfkyTWvuf2eS",
        "outputId": "af518bab-a2ca-4834-8268-2fa929186600"
      },
      "source": [
        "cmap_light = ListedColormap(['#BA50F2', '#50F2D1'])  #for the values - entertainment = 3.9, service = 2, from the plot, the class is : \"satisfied\"\n",
        "cmap_bold = ListedColormap(['#0C3EE0', '#E11E47'])   \n",
        "\n",
        "x_min, x_max = x[:, 0].min() - 1, x[:, 0].max() + 1 \n",
        "y_min, y_max = x[:, 1].min() - 1, x[:, 1].max() + 1\n",
        "xx, yy = np.meshgrid(np.arange(x_min, x_max),\n",
        "np.arange(y_min, y_max))\n",
        "\n",
        "Z = cls.predict(np.c_[xx.ravel(), yy.ravel()])\n",
        "\n",
        "Z = Z.reshape(xx.shape)\n",
        "plt.figure()\n",
        "plt.pcolormesh(xx, yy, Z, cmap=cmap_light)\n",
        "\n",
        "plt.scatter(x[:, 0], x[:, 1], c=y, cmap=cmap_bold)\n",
        "plt.xlim(xx.min(), xx.max())\n",
        "plt.ylim(yy.min(), yy.max())\n",
        "plt.xlabel(\"Entertainment\")\n",
        "plt.ylabel(\"Service\")\n",
        "plt.show()"
      ],
      "execution_count": 39,
      "outputs": [
        {
          "output_type": "display_data",
          "data": {
            "image/png": "[encoded data removed]",
            "text/plain": [
              "<Figure size 432x288 with 1 Axes>"
            ]
          },
          "metadata": {
            "needs_background": "light"
          }
        }
      ]
    }
  ]
}
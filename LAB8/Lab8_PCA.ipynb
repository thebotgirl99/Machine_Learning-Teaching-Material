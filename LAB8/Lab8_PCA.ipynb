{
  "nbformat": 4,
  "nbformat_minor": 0,
  "metadata": {
    "colab": {
      "name": "Lab8_PCA.ipynb",
      "provenance": []
    },
    "kernelspec": {
      "name": "python3",
      "display_name": "Python 3"
    },
    "language_info": {
      "name": "python"
    }
  },
  "cells": [
    {
      "cell_type": "code",
      "execution_count": 130,
      "metadata": {
        "id": "iFTL8JwJtiDW"
      },
      "outputs": [],
      "source": [
        "import numpy as np #import the required libraries\n",
        "import matplotlib.pyplot as plt\n",
        "import pandas as pd\n",
        "import seaborn as sn\n",
        "from sklearn.model_selection import train_test_split\n",
        "from sklearn.decomposition import PCA\n",
        "from sklearn.preprocessing import LabelEncoder"
      ]
    },
    {
      "cell_type": "code",
      "source": [
        "dataset = pd.read_csv('/content/Cancer_dataset.csv') #load your dataset"
      ],
      "metadata": {
        "id": "prJWRpuayOXf"
      },
      "execution_count": 151,
      "outputs": []
    },
    {
      "cell_type": "code",
      "source": [
        "dataset.isnull().sum() #check for null values in the dataset"
      ],
      "metadata": {
        "colab": {
          "base_uri": "https://localhost:8080/"
        },
        "id": "zkkqiu40RHXL",
        "outputId": "4f7a741d-4192-4bc2-fc04-b939b61a1447"
      },
      "execution_count": 152,
      "outputs": [
        {
          "output_type": "execute_result",
          "data": {
            "text/plain": [
              "mean_radius        0\n",
              "mean_texture       0\n",
              "mean_perimeter     0\n",
              "mean_area          0\n",
              "mean_smoothness    0\n",
              "diagnosis          0\n",
              "dtype: int64"
            ]
          },
          "metadata": {},
          "execution_count": 152
        }
      ]
    },
    {
      "cell_type": "code",
      "source": [
        "print(np.mean(dataset)) #check if your data is normalized - mean = 0, std dev = 1\n",
        "print(np.std(dataset))"
      ],
      "metadata": {
        "colab": {
          "base_uri": "https://localhost:8080/"
        },
        "id": "DsDbmk5SbqYw",
        "outputId": "d9c79c10-91da-474c-9b66-93fb4528bbd0"
      },
      "execution_count": 153,
      "outputs": [
        {
          "output_type": "stream",
          "name": "stdout",
          "text": [
            "mean_radius         14.127292\n",
            "mean_texture        19.289649\n",
            "mean_perimeter      91.969033\n",
            "mean_area          654.889104\n",
            "mean_smoothness      0.096360\n",
            "diagnosis            0.627417\n",
            "dtype: float64\n",
            "mean_radius          3.520951\n",
            "mean_texture         4.297255\n",
            "mean_perimeter      24.277619\n",
            "mean_area          351.604754\n",
            "mean_smoothness      0.014052\n",
            "diagnosis            0.483493\n",
            "dtype: float64\n"
          ]
        }
      ]
    },
    {
      "cell_type": "code",
      "source": [
        "data = dataset.drop(['diagnosis'], axis = 1) #PCA is unsupervised learning, hence drop the 'diagnosis' label\n",
        "data.head()"
      ],
      "metadata": {
        "colab": {
          "base_uri": "https://localhost:8080/",
          "height": 206
        },
        "id": "UfJ_F2paXbAO",
        "outputId": "be2367c0-0a43-46eb-c4bb-d25e311fefaa"
      },
      "execution_count": 154,
      "outputs": [
        {
          "output_type": "execute_result",
          "data": {
            "text/html": [
              "<div>\n",
              "<style scoped>\n",
              "    .dataframe tbody tr th:only-of-type {\n",
              "        vertical-align: middle;\n",
              "    }\n",
              "\n",
              "    .dataframe tbody tr th {\n",
              "        vertical-align: top;\n",
              "    }\n",
              "\n",
              "    .dataframe thead th {\n",
              "        text-align: right;\n",
              "    }\n",
              "</style>\n",
              "<table border=\"1\" class=\"dataframe\">\n",
              "  <thead>\n",
              "    <tr style=\"text-align: right;\">\n",
              "      <th></th>\n",
              "      <th>mean_radius</th>\n",
              "      <th>mean_texture</th>\n",
              "      <th>mean_perimeter</th>\n",
              "      <th>mean_area</th>\n",
              "      <th>mean_smoothness</th>\n",
              "    </tr>\n",
              "  </thead>\n",
              "  <tbody>\n",
              "    <tr>\n",
              "      <th>0</th>\n",
              "      <td>17.99</td>\n",
              "      <td>10.38</td>\n",
              "      <td>122.80</td>\n",
              "      <td>1001.0</td>\n",
              "      <td>0.11840</td>\n",
              "    </tr>\n",
              "    <tr>\n",
              "      <th>1</th>\n",
              "      <td>20.57</td>\n",
              "      <td>17.77</td>\n",
              "      <td>132.90</td>\n",
              "      <td>1326.0</td>\n",
              "      <td>0.08474</td>\n",
              "    </tr>\n",
              "    <tr>\n",
              "      <th>2</th>\n",
              "      <td>19.69</td>\n",
              "      <td>21.25</td>\n",
              "      <td>130.00</td>\n",
              "      <td>1203.0</td>\n",
              "      <td>0.10960</td>\n",
              "    </tr>\n",
              "    <tr>\n",
              "      <th>3</th>\n",
              "      <td>11.42</td>\n",
              "      <td>20.38</td>\n",
              "      <td>77.58</td>\n",
              "      <td>386.1</td>\n",
              "      <td>0.14250</td>\n",
              "    </tr>\n",
              "    <tr>\n",
              "      <th>4</th>\n",
              "      <td>20.29</td>\n",
              "      <td>14.34</td>\n",
              "      <td>135.10</td>\n",
              "      <td>1297.0</td>\n",
              "      <td>0.10030</td>\n",
              "    </tr>\n",
              "  </tbody>\n",
              "</table>\n",
              "</div>"
            ],
            "text/plain": [
              "   mean_radius  mean_texture  mean_perimeter  mean_area  mean_smoothness\n",
              "0        17.99         10.38          122.80     1001.0          0.11840\n",
              "1        20.57         17.77          132.90     1326.0          0.08474\n",
              "2        19.69         21.25          130.00     1203.0          0.10960\n",
              "3        11.42         20.38           77.58      386.1          0.14250\n",
              "4        20.29         14.34          135.10     1297.0          0.10030"
            ]
          },
          "metadata": {},
          "execution_count": 154
        }
      ]
    },
    {
      "cell_type": "code",
      "source": [
        "from sklearn.preprocessing import StandardScaler\n",
        "data = StandardScaler().fit_transform(data)  #always normalize your data before PCA"
      ],
      "metadata": {
        "id": "Z-2iMxGmWlYy"
      },
      "execution_count": 155,
      "outputs": []
    },
    {
      "cell_type": "code",
      "source": [
        "print(np.mean(data)) #check if your data is normalized - mean = 0, std dev = 1\n",
        "print(np.std(data))"
      ],
      "metadata": {
        "colab": {
          "base_uri": "https://localhost:8080/"
        },
        "id": "jxHlIR-TWKv1",
        "outputId": "7804170a-17a8-414e-ecf5-e70a8faa7150"
      },
      "execution_count": 156,
      "outputs": [
        {
          "output_type": "stream",
          "name": "stdout",
          "text": [
            "-4.495525217462848e-17\n",
            "1.0\n"
          ]
        }
      ]
    },
    {
      "cell_type": "code",
      "source": [
        "pca = PCA(n_components=2) #perform PCA with 2 principal components\n",
        "data_pca = pca.fit_transform(data)"
      ],
      "metadata": {
        "id": "bCUbkI3gH-oe"
      },
      "execution_count": 157,
      "outputs": []
    },
    {
      "cell_type": "code",
      "source": [
        "data_after_pca = pd.DataFrame(data = data_pca, columns = ['PC1', 'PC2']) #visualize your data after PCA\n",
        "data_after_pca.head()"
      ],
      "metadata": {
        "colab": {
          "base_uri": "https://localhost:8080/",
          "height": 206
        },
        "id": "5_sWvMTCKeCF",
        "outputId": "4df28dc5-6a51-4a4a-c466-f92f870f4452"
      },
      "execution_count": 160,
      "outputs": [
        {
          "output_type": "execute_result",
          "data": {
            "text/html": [
              "<div>\n",
              "<style scoped>\n",
              "    .dataframe tbody tr th:only-of-type {\n",
              "        vertical-align: middle;\n",
              "    }\n",
              "\n",
              "    .dataframe tbody tr th {\n",
              "        vertical-align: top;\n",
              "    }\n",
              "\n",
              "    .dataframe thead th {\n",
              "        text-align: right;\n",
              "    }\n",
              "</style>\n",
              "<table border=\"1\" class=\"dataframe\">\n",
              "  <thead>\n",
              "    <tr style=\"text-align: right;\">\n",
              "      <th></th>\n",
              "      <th>PC1</th>\n",
              "      <th>PC2</th>\n",
              "    </tr>\n",
              "  </thead>\n",
              "  <tbody>\n",
              "    <tr>\n",
              "      <th>0</th>\n",
              "      <td>1.562077</td>\n",
              "      <td>2.464472</td>\n",
              "    </tr>\n",
              "    <tr>\n",
              "      <th>1</th>\n",
              "      <td>2.801064</td>\n",
              "      <td>-0.466274</td>\n",
              "    </tr>\n",
              "    <tr>\n",
              "      <th>2</th>\n",
              "      <td>2.848768</td>\n",
              "      <td>0.593637</td>\n",
              "    </tr>\n",
              "    <tr>\n",
              "      <th>3</th>\n",
              "      <td>-0.658477</td>\n",
              "      <td>2.624944</td>\n",
              "    </tr>\n",
              "    <tr>\n",
              "      <th>4</th>\n",
              "      <td>2.718517</td>\n",
              "      <td>0.897870</td>\n",
              "    </tr>\n",
              "  </tbody>\n",
              "</table>\n",
              "</div>"
            ],
            "text/plain": [
              "        PC1       PC2\n",
              "0  1.562077  2.464472\n",
              "1  2.801064 -0.466274\n",
              "2  2.848768  0.593637\n",
              "3 -0.658477  2.624944\n",
              "4  2.718517  0.897870"
            ]
          },
          "metadata": {},
          "execution_count": 160
        }
      ]
    },
    {
      "cell_type": "code",
      "source": [
        "print(pca.explained_variance_ratio_) #find out how much variance is explained by each principal component"
      ],
      "metadata": {
        "colab": {
          "base_uri": "https://localhost:8080/"
        },
        "id": "98OpT15kKvg8",
        "outputId": "608dbe96-1934-4b45-9483-dd00ae6dde52"
      },
      "execution_count": 163,
      "outputs": [
        {
          "output_type": "stream",
          "name": "stdout",
          "text": [
            "[0.63446825 0.2042183 ]\n"
          ]
        }
      ]
    },
    {
      "cell_type": "code",
      "source": [
        "plt.figure(figsize=(10,10)) #visualize your PCA \n",
        "plt.xlabel('Principal Component - 1',fontsize=20)\n",
        "plt.ylabel('Principal Component - 2',fontsize=20)\n",
        "plt.title(\"PCA of Cancer Dataset\",fontsize=20)\n",
        "targets = [0,1]\n",
        "colors = ['r', 'g']\n",
        "for target, color in zip(targets,colors):\n",
        "    indicesToKeep = dataset['diagnosis'] == target\n",
        "    plt.scatter(data_after_pca.loc[indicesToKeep, 'PC1']\n",
        "               , data_after_pca.loc[indicesToKeep, 'PC2'], c = color, s = 50)\n",
        "\n",
        "plt.legend(targets)"
      ],
      "metadata": {
        "colab": {
          "base_uri": "https://localhost:8080/",
          "height": 654
        },
        "id": "cMhAW-t6LT7_",
        "outputId": "76514396-f48e-41d7-f713-20ff1be455bb"
      },
      "execution_count": 166,
      "outputs": [
        {
          "output_type": "execute_result",
          "data": {
            "text/plain": [
              "<matplotlib.legend.Legend at 0x7f800b380290>"
            ]
          },
          "metadata": {},
          "execution_count": 166
        },
        {
          "output_type": "display_data",
          "data": {
            "image/png": "[encoded data removed]",
            "text/plain": [
              "<Figure size 720x720 with 1 Axes>"
            ]
          },
          "metadata": {
            "needs_background": "light"
          }
        }
      ]
    }
  ]
}